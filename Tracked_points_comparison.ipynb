{
 "cells": [
  {
   "cell_type": "code",
   "execution_count": 26,
   "id": "0bdd4bb7-0643-4ae6-88d8-aa35aa29cc85",
   "metadata": {},
   "outputs": [
    {
     "name": "stdout",
     "output_type": "stream",
     "text": [
      "[  0. 418. 420. ... 301. 302. 312.]\n",
      "(2865,)\n",
      "[  0. 397. 406. ... 253. 250. 240.]\n",
      "(2865,)\n",
      "1381 / 2865 \n",
      "Percentage: 48.20244328097731 %\n"
     ]
    }
   ],
   "source": [
    "import pandas as pd\n",
    "import numpy as np\n",
    "\n",
    "def check_points(file1_path, file2_path):\n",
    "    # Load the data from the CSV file\n",
    "    df1 = pd.read_csv(file1_path)\n",
    "    df2 = pd.read_csv(file2_path)\n",
    "    count = np.array([])\n",
    "    kp_1 = np.array([])\n",
    "    kp_2 = np.array([])\n",
    "    \n",
    "    kp_1 = np.append(kp_1, df1['Number of tracked points'])\n",
    "    kp_2 = np.append(kp_2, df2['Number of tracked points'])\n",
    "\n",
    "    kp_2 = kp_2[:len(kp_1)]\n",
    "\n",
    "    print(kp_1)\n",
    "    print(kp_1.shape)\n",
    "    print(kp_2)\n",
    "    print(kp_2.shape)\n",
    "    \n",
    "   \n",
    "    for i in range(len(kp_1)):\n",
    "        if kp_1[i] > kp_2[i]:\n",
    "            count = np.append(count, kp_1[i])\n",
    "    \n",
    "    # Calculate the percentage of entries with processing time greater than the threshold\n",
    "    no_of_higher_entry = len(count)\n",
    "    total_entry = len (df1)\n",
    "    percentage = (no_of_higher_entry / total_entry ) * 100\n",
    "\n",
    "    print (no_of_higher_entry, \"/\", total_entry, \"\\nPercentage:\", percentage, \"%\")\n",
    "\n",
    "if __name__ == \"__main__\":\n",
    "    file1_path = '/home/user/Downloads/KdRobotDockers-main/Gemini_ros_noetic/robot_ws/2024_07_04/test1/logs'  # Replace with your actual file path\n",
    "    file2_path = '/home/user/Downloads/KdRobotDockers-main/Gemini_ros_noetic/robot_ws/2024_07_04/test2/logs'  \n",
    "    check_points(file1_path, file2_path)\n"
   ]
  }
 ],
 "metadata": {
  "kernelspec": {
   "display_name": "Python 3 (ipykernel)",
   "language": "python",
   "name": "python3"
  },
  "language_info": {
   "codemirror_mode": {
    "name": "ipython",
    "version": 3
   },
   "file_extension": ".py",
   "mimetype": "text/x-python",
   "name": "python",
   "nbconvert_exporter": "python",
   "pygments_lexer": "ipython3",
   "version": "3.10.12"
  }
 },
 "nbformat": 4,
 "nbformat_minor": 5
}
